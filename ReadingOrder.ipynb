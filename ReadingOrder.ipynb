{
  "cells": [
    {
      "cell_type": "markdown",
      "source": [
        "# Reading Order Detection"
      ],
      "metadata": {
        "id": "Ec_JSJKlxXex"
      }
    },
    {
      "cell_type": "code",
      "execution_count": null,
      "metadata": {
        "id": "cboXMC2TtrxS"
      },
      "outputs": [],
      "source": [
        "# Requirements for the custom doctr model\n",
        "# Restart runtime after the cell is executed\n",
        "! pip install 'python-doctr[torch]==0.5.1'\n",
        "!pip install rapidfuzz==2.6.0\n",
        "! pip install tensorflow_addons\n",
        "! pip install tf2onnx"
      ]
    },
    {
      "cell_type": "code",
      "source": [
        "import os\n",
        "os.environ['USE_TORCH'] = '1'"
      ],
      "metadata": {
        "id": "x6xbRyVyJv-T"
      },
      "execution_count": null,
      "outputs": []
    },
    {
      "cell_type": "code",
      "execution_count": null,
      "metadata": {
        "id": "rZW40102dnKI"
      },
      "outputs": [],
      "source": [
        "# Import the necessary libraires\n",
        "import torch\n",
        "import os\n",
        "from doctr.models import ocr_predictor\n",
        "from collections import OrderedDict\n",
        "from doctr.io import DocumentFile\n",
        "import cv2\n",
        "import json\n",
        "import pandas as pd\n",
        "import numpy as np\n",
        "import tensorflow as tf\n",
        "from sklearn.preprocessing import MinMaxScaler\n",
        "import ast\n",
        "import matplotlib.pyplot as plt\n",
        "import math\n",
        "from scipy.stats import gaussian_kde\n",
        "import networkx as nx\n",
        "from scipy.spatial.distance import euclidean"
      ]
    },
    {
      "cell_type": "markdown",
      "source": [
        "## Helper Functions"
      ],
      "metadata": {
        "id": "7mQ6AFUdB3Hz"
      }
    },
    {
      "cell_type": "code",
      "source": [
        "# Function to calculate the euclidean distance between 2 points\n",
        "def euclidean_distance(point1, point2):\n",
        "    squared_diff = (point1 - point2) ** 2\n",
        "    sum_squared_diff = np.sum(squared_diff)\n",
        "    distance = np.sqrt(sum_squared_diff)\n",
        "\n",
        "    return distance"
      ],
      "metadata": {
        "id": "Bt3d5_dIB542"
      },
      "execution_count": null,
      "outputs": []
    },
    {
      "cell_type": "code",
      "source": [
        "# Function to extract integer coordinates read as strings while reading dataframes from .csv files\n",
        "def parse_string(string, start_char, end_char):\n",
        "    start_index = string.index(start_char) + 1\n",
        "    end_index = string.index(end_char)\n",
        "    parsed_string = string[start_index:end_index]\n",
        "    return parsed_string"
      ],
      "metadata": {
        "id": "HClEgBWlB90F"
      },
      "execution_count": null,
      "outputs": []
    },
    {
      "cell_type": "code",
      "source": [
        "# Function to calculate the euclidean distance between 2 points when not in the form of a list\n",
        "def euclidean_distance1(coord1, coord2):\n",
        "    point1 = np.array(coord1)\n",
        "    point2 = np.array(coord2)\n",
        "    squared_diff = (point1 - point2) ** 2\n",
        "    sum_squared_diff = np.sum(squared_diff)\n",
        "    distance = np.sqrt(sum_squared_diff)\n",
        "    return distance"
      ],
      "metadata": {
        "id": "5Lc0LhsEmKew"
      },
      "execution_count": null,
      "outputs": []
    },
    {
      "cell_type": "markdown",
      "source": [
        "## Stage-1: Bounding boxes B = B1, B2, ... for individual document words are obtained using a pre-trained text detection model."
      ],
      "metadata": {
        "id": "k_Cs4CSRzvZo"
      }
    },
    {
      "cell_type": "code",
      "execution_count": null,
      "metadata": {
        "id": "J0a0AYQmdukQ"
      },
      "outputs": [],
      "source": [
        "# Function for doctr predictions. Returns (x,y) coordinates of the top-left and bottom-right corner of each box.\n",
        "def doctr_predictions(directory):\n",
        "\n",
        "    doc = DocumentFile.from_images(directory)\n",
        "    result = predictor(doc)\n",
        "    dic = result.export()\n",
        "\n",
        "    page_dims = [page['dimensions'] for page in dic['pages']]\n",
        "\n",
        "    regions = []\n",
        "    abs_coords = []\n",
        "\n",
        "    regions = [[word for block in page['blocks'] for line in block['lines'] for word in line['words']] for page in dic['pages']]\n",
        "    abs_coords = [\n",
        "    [[int(round(word['geometry'][0][0] * dims[1])),\n",
        "      int(round(word['geometry'][0][1] * dims[0])),\n",
        "      int(round(word['geometry'][1][0] * dims[1])),\n",
        "      int(round(word['geometry'][1][1] * dims[0]))] for word in words]\n",
        "    for words, dims in zip(regions, page_dims)\n",
        "    ]\n",
        "\n",
        "    return abs_coords"
      ]
    },
    {
      "cell_type": "code",
      "execution_count": null,
      "metadata": {
        "id": "5JyeoX-nt2d0"
      },
      "outputs": [],
      "source": [
        "# Upload the db_resnet50.pt model\n",
        "# The cell might throw a Runtime error if run on Google colab due to CUDA installation issues\n",
        "device = torch.device(\"cuda\" if torch.cuda.is_available() else \"cpu\")\n",
        "predictor = ocr_predictor(pretrained=True)\n",
        "\n",
        "state_dict = torch.load(\"/content/db_resnet50.pt\")\n",
        "\n",
        "new_state_dict = OrderedDict()\n",
        "for k, v in state_dict.items():\n",
        "    name = k[7:]\n",
        "    new_state_dict[name] = v\n",
        "\n",
        "\n",
        "predictor.det_predictor.model.load_state_dict(new_state_dict)"
      ]
    },
    {
      "cell_type": "markdown",
      "source": [
        "## Stage-2: The spatial proximity relationships among the bounding boxes B are used to construct a disconnected graph G with the individual boxes as graph nodes. The subgraphs Gs = g1, g2,... of G constitute the set of paragraphs"
      ],
      "metadata": {
        "id": "53UBO3C83q5_"
      }
    },
    {
      "cell_type": "markdown",
      "source": [
        "### Code snipped to generate KDE thresholds"
      ],
      "metadata": {
        "id": "VakhGfODdZhr"
      }
    },
    {
      "cell_type": "code",
      "source": [
        "# Function to get Gaussian KDE\n",
        "kernel_bandwidth = 0.1 # Standard value\n",
        "\n",
        "def kde_estimate(data):\n",
        "  kde = gaussian_kde(data, bw_method=kernel_bandwidth)\n",
        "  x = np.linspace(min(data), max(data), 1000)\n",
        "  kde_values = kde.evaluate(x)\n",
        "  peak_index = np.argmax(kde_values)\n",
        "  peak_value = x[peak_index]\n",
        "  return math.ceil(peak_value)\n"
      ],
      "metadata": {
        "id": "l_b48NJUhbrV"
      },
      "execution_count": null,
      "outputs": []
    },
    {
      "cell_type": "code",
      "source": [
        "# Function to get the closest vertical boxes to be fed to the KDE for vertical thresholds\n",
        "# Input: Dataframe with word bounding boxes\n",
        "# Output: Average vertical distance for each box as a list\n",
        "# Use 8 closest neighbours (Horizontal neighbours - 6 and vertical neighbours -2)\n",
        "def find_closest_neighbors(df):\n",
        "    horizontal = []\n",
        "    vertical = []\n",
        "    for index, row in df.iterrows():\n",
        "        current_box = row[['Top', 'Bottom', 'Left', 'Right']].values\n",
        "        distances_horizontal = []\n",
        "        distances_vertical = []\n",
        "        for other_index, other_row in df.iterrows():\n",
        "            if index != other_index:\n",
        "                other_box = other_row[['Top', 'Bottom', 'Left', 'Right']].values\n",
        "                distance_left_to_right = euclidean_distance1(current_box[2], other_box[3])\n",
        "                distance_right_to_left = euclidean_distance1(current_box[3], other_box[2])\n",
        "                distances_horizontal.extend([distance_left_to_right, distance_right_to_left])\n",
        "        distances_horizontal.sort()\n",
        "        s = sum(distances_horizontal[:6])\n",
        "        a = s/6\n",
        "        horizontal.append(a) # Average horizontal distance per box stored as a list\n",
        "\n",
        "        for other_index, other_row in df.iterrows():\n",
        "            if index != other_index:\n",
        "                other_box = other_row[['Top', 'Bottom', 'Left', 'Right']].values\n",
        "                distance_top_to_bottom = euclidean_distance1(current_box[1], other_box[0])\n",
        "                distance_bottom_to_top = euclidean_distance1(current_box[0], other_box[1])\n",
        "                distances_vertical.extend([distance_top_to_bottom, distance_bottom_to_top])\n",
        "        distances_vertical.sort()\n",
        "        v = sum(distances_vertical[:2])\n",
        "        t = v/2\n",
        "        vertical.append(t) # Average vertical distance per box stored as a list\n",
        "\n",
        "    return horizontal, vertical"
      ],
      "metadata": {
        "id": "iutgn4BTixPR"
      },
      "execution_count": null,
      "outputs": []
    },
    {
      "cell_type": "markdown",
      "source": [
        "### Code snippets to build the graph"
      ],
      "metadata": {
        "id": "5RN4kk0QJCop"
      }
    },
    {
      "cell_type": "code",
      "execution_count": null,
      "metadata": {
        "id": "88aOCh9reNDS"
      },
      "outputs": [],
      "source": [
        "# Function to calculate the centers of all the 4 edges of the bounding boxes and stored in a dataframe as the Top, Bottom, Left and Right.\n",
        "# An unique ID is assigned to each box.\n",
        "# input: Dataframe with bounding box coordinates, new dataframe to which information of the edge centers are appended.\n",
        "def calculate_center_points(df, new_df):\n",
        "    top = []\n",
        "    bottom = []\n",
        "    left = []\n",
        "    right = []\n",
        "    id = []\n",
        "\n",
        "    for i in range(0,len(df)):\n",
        "      x1,y1,x2,y2 = df[0][i][0], df[0][i][1], df[0][i][2], df[0][i][3] # Retriving the x and y coordinates of the top-left & bottom-right corners of the boxes.\n",
        "      # (x1,y1) = top-left coordinates\n",
        "      # (x2,y2) = bottom-right coordinates\n",
        "\n",
        "      # Calculating centers of the edges of the bounding boxes\n",
        "      top_center = [(x1 + x2) / 2, y1]\n",
        "      bottom_center = [(x1 + x2) / 2, y2]\n",
        "      left_center = [x1, (y1 + y2) / 2]\n",
        "      right_center = [x2, (y1 + y2) / 2]\n",
        "      top.append(top_center)\n",
        "      bottom.append(bottom_center)\n",
        "      left.append(left_center)\n",
        "      right.append(right_center)\n",
        "      id.append(i)\n",
        "    new_df['Top'] = top # Center (x,y) coordinates for the top edge of the bounding box\n",
        "    new_df['Bottom'] = bottom # Center (x,y) coordinates for the bottom edge of the bounding box\n",
        "    new_df['Left'] = left # Center (x,y) coordinates for the left edge of the bounding box\n",
        "    new_df['Right'] = right # Center (x,y) coordinates for the right edge of the bounding box\n",
        "    new_df['Id'] = id # Unique ID assigned to each box"
      ]
    },
    {
      "cell_type": "code",
      "execution_count": null,
      "metadata": {
        "id": "jcBcuU4OeoFn"
      },
      "outputs": [],
      "source": [
        "# Function to calculate the ID of the box to the right of the current box.\n",
        "# Function calculates the immediate right boxes of all the bounding boxes in the page and appends it to the dataframe.\n",
        "# Input: Dataframe with edge centers, horizontal threshold from the KDE function\n",
        "# Information regarding the rightbox is appended directly to the dataframe in the form of [distance to the right box, ID of the right box].\n",
        "# Default value: [-1,0]\n",
        "def calculate_rightbox(new_df,x):\n",
        "    # new_df = dataframe containing information, x = horizontal threshold\n",
        "    right = []\n",
        "    for i in range(len(new_df)): # Traversal to calculate the immediate right box for every box in the dataframe\n",
        "        dist = []\n",
        "        id = []\n",
        "        for j in range(len(new_df)): # Traverse every other bounding box to find the closest box within the horizontal threshold\n",
        "        # Calculate euclidean distance between the right center of the current box & the left center of every other box & append all such box ids within the threshold to a list.\n",
        "            distance = euclidean_distance(np.array(new_df['Left'][j]), np.array(new_df['Right'][i]))\n",
        "            y_distance = abs(new_df['Right'][i][1] - new_df['Left'][j][1])\n",
        "            if 0 <= distance < x and i != j and y_distance < 20: # 20 pixels to eliminate boxes which fell with the x threshold but belonged to different lines. Both boxes had to be part of the same line.\n",
        "                dist.append(distance)\n",
        "                id.append(j)\n",
        "        if dist:\n",
        "            t = np.argmin(dist) # Calculate the closest box from the list and append the distance and the ID to the dataframe.\n",
        "            right.append([np.min(dist), id[t]])\n",
        "        else:\n",
        "            right.append([-1, 0])\n",
        "\n",
        "    new_df['Right_Box'] = right"
      ]
    },
    {
      "cell_type": "code",
      "execution_count": null,
      "metadata": {
        "id": "ZNxRww5te2B4"
      },
      "outputs": [],
      "source": [
        "# Function to calculate the ID of the box to the left of the current box.\n",
        "# Function calculates the immediate left boxes of all the bounding boxes in the page and appends it to the dataframe.\n",
        "# Input: Dataframe with edge centers, horizontal threshold from the KDE function.\n",
        "# Information regarding the leftbox is appended directly to the dataframe in the form of [distance to the left box, ID of the left box].\n",
        "# Default value: [-1,0]\n",
        "def calculate_leftbox(new_df,x):\n",
        "    # new_df = dataframe containing information, x = horizontal threshold\n",
        "    left = []\n",
        "    for i in range(len(new_df)): # Traversal to calculate the immediate left box for every box in the dataframe\n",
        "        dist = []\n",
        "        id = []\n",
        "        for j in range(len(new_df)):  # Traverse every other bounding box to find the closest box within the horizontal threshold\n",
        "        # Calculate euclidean distance between the left center of the current box & the right center of every other box & append all such box ids within the threshold to a list.\n",
        "            distance = euclidean_distance(np.array(new_df['Right'][j]), np.array(new_df['Left'][i]))\n",
        "            y_distance = abs(new_df['Left'][i][1] - new_df['Right'][j][1])\n",
        "            if 0 <= distance < x and i != j and y_distance < 20: # 20 pixels to eliminate boxes which fell with the x threshold but belonged to different lines. Both boxes had to be part of the same line.\n",
        "                dist.append(distance)\n",
        "                id.append(j)\n",
        "        if dist:\n",
        "            t = np.argmin(dist) # Calculate the closest box from the list and append the distance and the ID to the dataframe.\n",
        "            left.append([np.min(dist), id[t]])\n",
        "        else:\n",
        "            left.append([-1, 0])\n",
        "\n",
        "    new_df['Left_Box'] = left"
      ]
    },
    {
      "cell_type": "code",
      "execution_count": null,
      "metadata": {
        "id": "2PjnfkBQe4N1"
      },
      "outputs": [],
      "source": [
        "# Function to calculate the ID of the box to the top of the current box.\n",
        "# Function calculates the immediate top boxes of all the bounding boxes in the page and appends it to the dataframe.\n",
        "# Input: Dataframe with edge centers, vertical threshold from the KDE function\n",
        "# Information regarding the topbox is appended directly to the dataframe in the form of [distance to the top box, ID of the top box].\n",
        "# Default value: [-1,0]\n",
        "def calculate_topbox(new_df,y):\n",
        "    # new_df = dataframe containing information, y = vertical threshold\n",
        "    top = []\n",
        "    for i in range(len(new_df)): # Traversal to calculate the immediate top box for every box in the dataframe\n",
        "        dist = []\n",
        "        id = []\n",
        "        for j in range(len(new_df)): # Traverse every other bounding box to find the closest box within the vertical threshold\n",
        "        # Calculate euclidean distance between the top center of the current box & the bottom center of every other box & append all such box ids within the threshold to a list.\n",
        "            distance = euclidean_distance(np.array(new_df['Bottom'][j]), np.array(new_df['Top'][i]))\n",
        "            if 0 <= distance < y and i != j:\n",
        "                dist.append(distance)\n",
        "                id.append(j)\n",
        "        if dist:\n",
        "            t = np.argmin(dist) # Calculate the closest box from the list and append the distance and the ID to the dataframe.\n",
        "            top.append([np.min(dist), id[t]])\n",
        "        else:\n",
        "            top.append([-1, 0])\n",
        "\n",
        "    new_df['Top_Box'] = top"
      ]
    },
    {
      "cell_type": "code",
      "execution_count": null,
      "metadata": {
        "id": "stiC8oJ4e8Jv"
      },
      "outputs": [],
      "source": [
        "# Function to calculate the ID of the box to the bottom of the current box.\n",
        "# Function calculates the immediate bottom boxes of all the bounding boxes in the page and appends it to the dataframe.\n",
        "# Input: Dataframe with edge centers, vertical threshold from the KDE function.\n",
        "# Information regarding the bottombox is appended directly to the dataframe in the form of [distance to the bottom box, ID of the bottom box].\n",
        "# Default value: [-1,0]\n",
        "def calculate_bottombox(new_df,y):\n",
        "    # new_df = dataframe containing information, y = vertical threshold\n",
        "    bottom = []\n",
        "    for i in range(len(new_df)): # Traversal to calculate the immediate bottom box for every box in the dataframe\n",
        "        dist = []\n",
        "        id = []\n",
        "        for j in range(len(new_df)): # Traverse every other bounding box to find the closest box within the vertical threshold\n",
        "        # Calculate euclidean distance between the bottom center of the current box & the top center of every other box & append all such box ids within the threshold to a list.\n",
        "            distance = euclidean_distance(np.array(new_df['Top'][j]), np.array(new_df['Bottom'][i]))\n",
        "            if 0 <= distance < y and i != j:\n",
        "                dist.append(distance)\n",
        "                id.append(j)\n",
        "        if dist:\n",
        "            t = np.argmin(dist) # Calculate the closest box from the list and append the distance and the ID to the dataframe.\n",
        "            bottom.append([np.min(dist), id[t]])\n",
        "        else:\n",
        "            bottom.append([-1, 0])\n",
        "\n",
        "    new_df['Bottom_Box'] = bottom"
      ]
    },
    {
      "cell_type": "code",
      "execution_count": null,
      "metadata": {
        "id": "hm8lAjCse_3d"
      },
      "outputs": [],
      "source": [
        "# Function to generate an image of the page with the bounding boxes as nodes and the connections as edges between the boxes.\n",
        "# Input: Image read using CV2\n",
        "# Output: Image of page with bounding boxes and connections between them.\n",
        "def make_connections(image):\n",
        "\n",
        "  image_rgb = cv2.cvtColor(image, cv2.COLOR_BGR2RGB)\n",
        "\n",
        "  image_with_boxes = image_rgb.copy()\n",
        "\n",
        "  for index, row in euclidean.iterrows():\n",
        "      left = int(row['Left'][0])\n",
        "      right = int(row['Right'][0])\n",
        "      top = int(row['Top'][1])\n",
        "      bottom = int(row['Bottom'][1])\n",
        "      box_id = int(row['Id'])\n",
        "\n",
        "      width = right - left\n",
        "      height = bottom - top\n",
        "\n",
        "      top_left = (left, top) # Recalculating the top-left and bottom-right to plot the bounding boxes\n",
        "      bottom_right = (right, bottom)\n",
        "\n",
        "      cv2.rectangle(image_with_boxes, top_left, bottom_right, (255, 0, 0), 4)\n",
        "\n",
        "      # Uncomment these lines to show the unique IDs given to each box.\n",
        "      # label_position = (left, top - 10)\n",
        "      # cv2.putText(image_with_boxes, str(box_id), label_position, cv2.FONT_HERSHEY_SIMPLEX, 0.5, (0, 0, 255), 1)\n",
        "\n",
        "      top_adjacent_id = int(row['Top_Box'][1])\n",
        "      bottom_adjacent_id = int(row['Bottom_Box'][1])\n",
        "      left_adjacent_id = int(row['Left_Box'][1])\n",
        "      right_adjacent_id = int(row['Right_Box'][1])\n",
        "\n",
        "      if top_adjacent_id != 0: # Draw the connection between current box and top box\n",
        "          top_adjacent_row = euclidean[euclidean['Id'] == top_adjacent_id].iloc[0]\n",
        "          top_adjacent_center = int(top_adjacent_row['Bottom'][0]) , int(top_adjacent_row['Bottom'][1])\n",
        "          cv2.line(image_with_boxes, (int(left) + width // 2, int(top)), top_adjacent_center, (0, 255, 0), 4)\n",
        "\n",
        "      if bottom_adjacent_id != 0: # Draw the connection between current box and bottom box\n",
        "          bottom_adjacent_row = euclidean[euclidean['Id'] == bottom_adjacent_id].iloc[0]\n",
        "          bottom_adjacent_center = int(bottom_adjacent_row['Top'][0]) , int(bottom_adjacent_row['Top'][1])\n",
        "          cv2.line(image_with_boxes, (int(left) + width // 2, int(bottom)), (int(bottom_adjacent_center[0]), int(bottom_adjacent_center[1])), (0, 255, 0), 4)\n",
        "\n",
        "      if left_adjacent_id != 0: # Draw the connection between current box and left box\n",
        "          left_adjacent_row = euclidean[euclidean['Id'] == left_adjacent_id].iloc[0]\n",
        "          left_adjacent_center = int(left_adjacent_row['Right'][0]) , int(left_adjacent_row['Right'][1])\n",
        "          cv2.line(image_with_boxes, (int(left), int(top) + height // 2), (int(left_adjacent_center[0]), int(left_adjacent_center[1])), (0, 255, 0), 4)\n",
        "\n",
        "      if right_adjacent_id != 0: # Draw the connection between current box and right box\n",
        "          right_adjacent_row = euclidean[euclidean['Id'] == right_adjacent_id].iloc[0]\n",
        "          right_adjacent_center = int(right_adjacent_row['Left'][0]) , int(right_adjacent_row['Left'][1])\n",
        "          cv2.line(image_with_boxes, (int(right), int(top) + height // 2), (int(right_adjacent_center[0]), int(right_adjacent_center[1])), (0, 255, 0), 4)\n",
        "\n",
        "  return image_with_boxes\n",
        "\n"
      ]
    },
    {
      "cell_type": "markdown",
      "source": [
        "## Stage-3: Using the spatial extent information of word bounding boxes that constitute each paragraph subgraph, the set of subgraphs are processed to obtain a permutation sequence of g1,g2, ... This sequence represents the sequential order of paragraphs in the document."
      ],
      "metadata": {
        "id": "d6YVdwwSOWMY"
      }
    },
    {
      "cell_type": "code",
      "source": [
        "# Function to convert dataframe into graphs using networkx\n",
        "# Input: Dataframe containing bounding boxes\n",
        "# Output: Return Grap\n",
        "def create_graphs(euclidean):\n",
        "  G = nx.Graph()\n",
        "  for _, row in euclidean.iterrows():\n",
        "      box_id = row['Id']\n",
        "      right_box = row['Right_Box']\n",
        "      left_box = row['Left_Box']\n",
        "      top_box = row['Top_Box']\n",
        "      bottom_box = row['Bottom_Box']\n",
        "      # Indexing the box IDs\n",
        "      right_box_id = parse_string(right_box,\" \",\"]\")\n",
        "      left_box_id = parse_string(left_box,\" \",\"]\")\n",
        "      top_box_id = parse_string(top_box,\" \",\"]\")\n",
        "      bottom_box_id = parse_string(bottom_box,\" \",\"]\")\n",
        "      # Adding the nodes to the graph and edges\n",
        "      G.add_node(box_id)\n",
        "      if right_box[0] != -1 and right_box[1] != \"-\":\n",
        "          G.add_edge(int(box_id), int(right_box_id))\n",
        "      if left_box[0] != -1 and left_box[1] != \"-\":\n",
        "          G.add_edge(int(box_id), int(left_box_id))\n",
        "      if top_box[0] != -1 and top_box[1] != \"-\":\n",
        "          G.add_edge(int(box_id), int(top_box_id))\n",
        "      if bottom_box[0] != -1 and bottom_box[1] != \"-\":\n",
        "          G.add_edge(int(box_id), int(bottom_box_id))\n",
        "\n",
        "  # Store all the node in a variable\n",
        "  connected_components = nx.connected_components(G)\n",
        "\n",
        "  # Generate subgraphs using DFS\n",
        "  subgraphs = [G.subgraph(component) for component in connected_components]\n",
        "\n",
        "  num_subgraphs = len(subgraphs)\n",
        "  num_cols = 2\n",
        "  num_rows = (num_subgraphs + num_cols - 1) // num_cols\n",
        "  fig, axs = plt.subplots(num_rows, num_cols, figsize=(12, 8))\n",
        "  axs = axs.flatten()\n",
        "\n",
        "  # Code draw the subgraphs\n",
        "  for i, subgraph in enumerate(subgraphs):\n",
        "      ax = axs[i]\n",
        "      pos = nx.spring_layout(subgraph, k=0.5)\n",
        "      nx.draw(subgraph, pos, with_labels=True, node_color='lightblue', node_size=100, font_size=8, edge_color='gray', ax=ax)\n",
        "      ax.set_title(f'Subgraph {i+1}')\n",
        "\n",
        "\n",
        "  if num_subgraphs < len(axs):\n",
        "      for j in range(num_subgraphs, len(axs)):\n",
        "          fig.delaxes(axs[j])\n",
        "\n",
        "  plt.tight_layout()\n",
        "  plt.show()\n",
        "\n",
        "  return G\n",
        "\n"
      ],
      "metadata": {
        "id": "jYDersC7XIO5"
      },
      "execution_count": null,
      "outputs": []
    },
    {
      "cell_type": "code",
      "source": [
        "# Function to generate a paragraph.json with all the words within each paragraph as separate components\n",
        "def get_paras(G):\n",
        "  df = pd.DataFrame()\n",
        "  connected_components = list(nx.connected_components(G))\n",
        "  connected_components_list = [list(component) for component in connected_components]\n",
        "  data = {\"connected_components\": connected_components_list}\n",
        "  json_data = json.dumps(data)\n",
        "  file_path = \"paragraph.json\" # Write it to paragraph.json\n",
        "\n",
        "  with open(file_path, \"w\") as json_file:\n",
        "      json_file.write(json_data)"
      ],
      "metadata": {
        "id": "7kpKjANKYUeV"
      },
      "execution_count": null,
      "outputs": []
    },
    {
      "cell_type": "code",
      "execution_count": null,
      "metadata": {
        "id": "OzlJN4pxfYoB"
      },
      "outputs": [],
      "source": [
        "# Function to create a dataframe for paragraphs, assign a unique ID for each paragraph and generate images with paragraph bounding boxes.\n",
        "# Input: image, target component read from paragraph.json file, Dataframe(euclidean) with all the bounding boxes and image_filename.\n",
        "# Output: Dataframe with paragraph information\n",
        "def recognise_paragraphs(image, target_components, euclidean, image_filename):\n",
        "\n",
        " component = pd.DataFrame()\n",
        " count = 0\n",
        "  #  Uncomment the lines to generate images with paragraph bounding boxes\n",
        "  #  image_rgb = cv2.cvtColor(image, cv2.COLOR_BGR2RGB)\n",
        "  #  Create a copy of the image to draw the boxes and labels on\n",
        "  #  image_with_boxes = image_rgb.copy()\n",
        "\n",
        " for i in target_components: # Traverse through all the components\n",
        "    left = []\n",
        "    right = []\n",
        "    top = []\n",
        "    bottom = []\n",
        "    for index, row in euclidean.iterrows(): # Traverse through all the words in the paragraph\n",
        "      box_id = int(row['Id'])\n",
        "      if box_id in i[0]:\n",
        "        # To find the coordinates of the top-left and bottom-right for the paragraph to draw the paragraph bounding boxes.\n",
        "        # Find the minimum coordinate for the left and top coordinate, and maximum coordinate for the right and bottom coordinate.\n",
        "        right_box_string = row['Right']\n",
        "        left_box_string = row['Left']\n",
        "        top_box_string = row['Top']\n",
        "        bottom_box_string = row['Bottom']\n",
        "        right_box = parse_string(right_box_string,\"[\",\",\")\n",
        "        left_box = parse_string(left_box_string,\"[\",\",\")\n",
        "        top_box = parse_string(top_box_string,\",\",\"]\")\n",
        "        bottom_box = parse_string(bottom_box_string,\",\",\"]\")\n",
        "        if(int(round(float(left_box)))!=-1):\n",
        "          left.append(int(round(float(left_box))))\n",
        "        if(int(round(float(right_box)))!=-1):\n",
        "          right.append(int(round(float(right_box))))\n",
        "        if(int(round(float(top_box)))!=-1):\n",
        "          top.append(int(round(float(top_box))))\n",
        "        if(int(round(float(bottom_box)))!=-1):\n",
        "          bottom.append(int(round(float(bottom_box))))\n",
        "    l = min(left)\n",
        "    r = max(right)\n",
        "    t = min(top)\n",
        "    b = max(bottom)\n",
        "    center_top = [int(l+r)/2, int(t)]\n",
        "    center_bottom = [int(l+r)/2, int(b)]\n",
        "    center_right = [int(r), int(t+b)/2]\n",
        "    center_left = [int(l), int(t+b)/2]\n",
        "    larger_box_top_left = (int(l - 20), int(t - 20))\n",
        "    larger_box_bottom_right = (int(r + 10), int(b + 10))\n",
        "    bottom_box = [-1, 0]\n",
        "    visited = 0\n",
        "    order = -1\n",
        "    # Uncomment to generate the image\n",
        "    # cv2.rectangle(image_with_boxes, larger_box_top_left, larger_box_bottom_right, (0, 0, 255), 2)\n",
        "    new_row = pd.Series([i, count, center_top, center_bottom, center_right, center_left, bottom_box, visited, order])\n",
        "    component = component.append(new_row, ignore_index=True)\n",
        "    count = count+1\n",
        "#  uncomment to show the image and write it to an output file\n",
        "#  plt.imshow(image_with_boxes)\n",
        "#  plt.axis('off')\n",
        "#  plt.show()\n",
        "#  output_path = 'Para.png'\n",
        "#  cv2.imwrite(output_path, cv2.cvtColor(image_with_boxes, cv2.COLOR_RGB2BGR))\n",
        " new_column_names = {0: 'Component', 1: 'Id', 2: 'Top',3: 'Bottom',4: 'Right',5: 'Left',6: 'Bottom_Box',7: 'Visited',8: 'Order'}\n",
        " component = component.rename(columns=new_column_names)\n",
        " component = ignore_margins(component, 20, 0, image_filename)\n",
        " component = component.reset_index(drop=True)\n",
        " calculate_bottombox_para(component)\n",
        " return component"
      ]
    },
    {
      "cell_type": "code",
      "source": [
        "# Function to find the minimum euclidean distance from the top-left corner of the page to the top-left corner of the paragraph bounding box.\n",
        "# Input: Dataframe containing paragraph information\n",
        "# Output: Paragraph id of the closest paragraph to the top-left corner of the page.\n",
        "def minimum_euclidean(component):\n",
        "    euclidean = float('inf')\n",
        "    min_idx = -1 # Initialise it to -1\n",
        "    for i in range(len(component)):\n",
        "        if component['Visited'][i] != 1:\n",
        "            current_distance = euclidean_distance(np.array([0, 0]), np.array(component['Top'][i]))\n",
        "            if current_distance < euclidean:\n",
        "                euclidean = current_distance\n",
        "                min_idx = i\n",
        "    return min_idx"
      ],
      "metadata": {
        "id": "f2HlcZ1Eex1T"
      },
      "execution_count": null,
      "outputs": []
    },
    {
      "cell_type": "code",
      "source": [
        "# Function to connect current paragraph with the paragraph immediately below it if it exists.\n",
        "# Input: Dataframe with paragraph information\n",
        "# Output: Updated Dataframe with Bottom box\n",
        "def calculate_bottombox_para(new_df):\n",
        "    bottom = []\n",
        "    for i in range(len(new_df)): # Traverse all the components\n",
        "        dist = []\n",
        "        id = []\n",
        "        for j in range(len(new_df)): # For each component look for closest paragraphs on the bottom\n",
        "            distance = euclidean_distance(np.array(new_df['Top'][j]), np.array(new_df['Bottom'][i]))\n",
        "            # similar to making connections with words\n",
        "            if 0 < distance < 60 and i != j: # 60 can be replaced with a KDE function similar to word thresholds\n",
        "                dist.append(distance)\n",
        "                id.append(j)\n",
        "        if dist:\n",
        "            t = np.argmin(dist)\n",
        "            bottom.append([np.min(dist), id[t]])\n",
        "        else:\n",
        "            bottom.append([-1, 0]) # Default value\n",
        "\n",
        "    new_df['Bottom_Box'] = bottom"
      ],
      "metadata": {
        "id": "Jb5DGRSGgUzn"
      },
      "execution_count": null,
      "outputs": []
    },
    {
      "cell_type": "code",
      "source": [
        "# Function to get the bottom paragraph if connected\n",
        "# Input: Dataframe with paragraph information, and current paragraph id\n",
        "# Output: Id of the bottom paragraph\n",
        "def get_next(component, i):\n",
        "  if(int(component['Bottom_Box'][i][0]) == -1):\n",
        "    return -1\n",
        "  else:\n",
        "    return int(component['Bottom_Box'][i][1])"
      ],
      "metadata": {
        "id": "u7zYu94vf3Ng"
      },
      "execution_count": null,
      "outputs": []
    },
    {
      "cell_type": "code",
      "source": [
        "# Function to generate paragraph order\n",
        "# Input: Dataframe with paragraph information\n",
        "# Output: Updated Dataframe with Paragraph order\n",
        "def paragraph_order(component):\n",
        "    order = 0\n",
        "    min_idx = minimum_euclidean(component) # Get the closest paragraph id\n",
        "\n",
        "    while any(component['Visited'] == 0) and min_idx != -1:\n",
        "        if component['Visited'][min_idx] != 1:\n",
        "            component['Visited'][min_idx] = 1\n",
        "            component['Order'][min_idx] = order\n",
        "            order += 1\n",
        "\n",
        "        next_idx = get_next(component, min_idx)\n",
        "        if next_idx != -1:\n",
        "            min_idx = next_idx\n",
        "        else:\n",
        "            min_idx = minimum_euclidean(component)\n",
        "\n",
        "    return component"
      ],
      "metadata": {
        "id": "5NI5WRRQeYx_"
      },
      "execution_count": null,
      "outputs": []
    },
    {
      "cell_type": "code",
      "source": [
        "# Function to visualise paragraph order\n",
        "# Input: image, target components, dataframe with word bounding boxes, dataframe with paragraph bounding boxes\n",
        "def visualise_paragraph_order(image, target_components, euclidean,component):\n",
        "\n",
        " image_rgb = cv2.cvtColor(image, cv2.COLOR_BGR2RGB)\n",
        " count = 0\n",
        " image_with_boxes = image_rgb.copy()\n",
        " for i in target_components:\n",
        "    left1 = []\n",
        "    right1 = []\n",
        "    top1 = []\n",
        "    bottom1 = []\n",
        "    for index, row in euclidean.iterrows():\n",
        "      box_id = int(row['Id'])\n",
        "      if box_id in i[0]:\n",
        "        right_box1 = row['Right']\n",
        "        left_box1 = row['Left']\n",
        "        top_box1 = row['Top']\n",
        "        bottom_box1 = row['Bottom']\n",
        "        right_box = parse_string(right_box1,\"[\",\",\")\n",
        "        left_box = parse_string(left_box1,\"[\",\",\")\n",
        "        top_box = parse_string(top_box1,\",\",\"]\")\n",
        "        bottom_box = parse_string(bottom_box1,\",\",\"]\")\n",
        "        if(int(round(float(left_box)))!=-1):\n",
        "          left1.append(int(round(float(left_box))))\n",
        "        if(int(round(float(right_box)))!=-1):\n",
        "          right1.append(int(round(float(right_box))))\n",
        "        if(int(round(float(top_box)))!=-1):\n",
        "          top1.append(int(round(float(top_box))))\n",
        "        if(int(round(float(bottom_box)))!=-1):\n",
        "          bottom1.append(int(round(float(bottom_box))))\n",
        "    l = min(left1)\n",
        "    r = max(right1)\n",
        "    t = min(top1)\n",
        "    b = max(bottom1)\n",
        "    center_top = [int(l+r)/2, int(t)]\n",
        "    center_bottom = [int(l+r)/2, int(b)]\n",
        "    center_right = [int(r), int(t+b)/2]\n",
        "    center_left = [int(l), int(t+b)/2]\n",
        "    larger_box_top_left = (int(l - 20), int(t - 20))\n",
        "    larger_box_bottom_right = (int(r + 10), int(b + 10))\n",
        "\n",
        "    cv2.rectangle(image_with_boxes, larger_box_top_left, larger_box_bottom_right, (0, 0, 255), 2)\n",
        "    cv2.putText(image_with_boxes, str(component['Order'][count]), (int(l - 20), int(t - 30)), cv2.FONT_HERSHEY_SIMPLEX, 0.9, (0, 0, 255), 2)\n",
        "    count = count + 1\n",
        " # Write to output path\n",
        " output_path = 'paragraph_order.png'\n",
        " cv2.imwrite(output_path, cv2.cvtColor(image_with_boxes, cv2.COLOR_RGB2BGR))"
      ],
      "metadata": {
        "id": "dEuMS_6ud3HN"
      },
      "execution_count": null,
      "outputs": []
    },
    {
      "cell_type": "markdown",
      "source": [
        "## Stage-4: The word bounding box sequence is obtained for each paragraph. This, combined with the sequential order of paragraphs from Stage-3, establishes the reading order for words in the document."
      ],
      "metadata": {
        "id": "TDfaDXx3b-cg"
      }
    },
    {
      "cell_type": "code",
      "execution_count": null,
      "metadata": {
        "id": "mhBRCIdifp_9"
      },
      "outputs": [],
      "source": [
        "# Function to return id of the box to the right if a connection exists\n",
        "# Input: Dataframe with bounding box information\n",
        "# Output: ID of box to the immediate right if connection exists\n",
        "def get_next_word(euclidean, i):\n",
        "  if(int(float(parse_string(euclidean['Right_Box'][i],'[',','))) == -1):\n",
        "    return -1 # Default return value\n",
        "  else:\n",
        "    return int(float(parse_string(euclidean['Right_Box'][i],',',']')))\n"
      ]
    },
    {
      "cell_type": "code",
      "execution_count": null,
      "metadata": {
        "id": "fcqW2opSfwdC"
      },
      "outputs": [],
      "source": [
        "# Function to get the next line\n",
        "# Input: Dataframe with paragraph information, dataframe with bounding box information, paragraph id\n",
        "# Output: bounding box id from the immediate next line\n",
        "def minimum_distance(component, euclidean, i):\n",
        "  # Calculate the minimum x and y coordinates to the top left corner of the paragraph bounding box and returns the id that is closest and not visited.\n",
        "    # initialise values\n",
        "    min_x_distance = math.inf\n",
        "    min_y_distance = math.inf\n",
        "    closest_coordinate = -1\n",
        "\n",
        "    for j in component['Component'][i][0]:\n",
        "        index = euclidean.index[euclidean['Id'] == j]\n",
        "        if euclidean['Visited'].loc[index].values[0] != 1:\n",
        "            y_distance = abs(0 - float(parse_string(euclidean['Top'].loc[index].values[0], ',', ']')))\n",
        "            x_distance = abs(0 - float(parse_string(euclidean['Left'].loc[index].values[0], '[', ',')))\n",
        "\n",
        "            if (y_distance < min_y_distance or (y_distance == min_y_distance and x_distance < min_x_distance)) and int(float(parse_string(euclidean['Left_Box'].loc[index].values[0],'[',','))) == -1:\n",
        "                min_x_distance = x_distance\n",
        "                min_y_distance = y_distance\n",
        "                closest_coordinate = j # Id of the closest box\n",
        "\n",
        "    return closest_coordinate"
      ]
    },
    {
      "cell_type": "code",
      "execution_count": null,
      "metadata": {
        "id": "00dyp-spf0tg"
      },
      "outputs": [],
      "source": [
        "# Function to caluclate the box immediately right to current box if connection does not exist\n",
        "# Input: Dataframe with paragraph information, current box id, dataframe with bounding box information, paragraph id\n",
        "# Output: bounding box id from the immediate next right\n",
        "def calculate_next_right(component, min_idx, euclidean, i):\n",
        "  # Calculate the minimum x and y coordinates to the right bounding box and returns the id that is closest and not visited.\n",
        "  # initialise values\n",
        "    min_x_distance = math.inf\n",
        "    min_y_distance = math.inf\n",
        "    closest_coordinate = -1\n",
        "    index_min = euclidean.index[euclidean['Id'] == min_idx].tolist()[0]\n",
        "    component_list = component['Component'][i][0]\n",
        "    for j in component_list:\n",
        "        index = euclidean.index[euclidean['Id'] == j].tolist()[0]\n",
        "        if euclidean.at[index, 'Visited'] != 1:\n",
        "            x_distance = abs(float(parse_string(euclidean.at[index_min, 'Right'],'[',',')) - float(parse_string(euclidean.at[index, 'Left'],'[',',')))\n",
        "            y_distance = abs(float(parse_string(euclidean.at[index_min, 'Right'],',',']')) - float(parse_string(euclidean.at[index, 'Left'],',',']')))\n",
        "            if x_distance < min_x_distance and y_distance < 10:\n",
        "              min_x_distance = x_distance\n",
        "              min_y_distance = y_distance\n",
        "              closest_coordinate = j # Id of the closest box\n",
        "    return closest_coordinate"
      ]
    },
    {
      "cell_type": "code",
      "execution_count": null,
      "metadata": {
        "id": "je9JqjCOf40z"
      },
      "outputs": [],
      "source": [
        "# Function to generate reading order\n",
        "# Input: Dataframe with paragraph information, dataframe with bounding box information\n",
        "# Output: Updated dataframe with reading order\n",
        "def word_order(component, euclidean):\n",
        "  # initialise values\n",
        "    euclidean.loc[:, 'Order'] = -1\n",
        "    euclidean.loc[:, 'Visited'] = 0\n",
        "    order = 0\n",
        "    for i in range(len(component)):\n",
        "        min_idx = minimum_distance(component, euclidean, i)\n",
        "        visited_list = [euclidean['Visited'][idx] == 0 for idx in component['Component'][i][0]]\n",
        "        while any(visited_list) != 0 and min_idx != -1:\n",
        "            if euclidean.at[min_idx, 'Visited'] != 1:\n",
        "                euclidean.at[min_idx, 'Visited'] = 1\n",
        "                euclidean.at[min_idx, 'Order'] = order\n",
        "                order += 1\n",
        "            next_idx = get_next_word(euclidean, min_idx)\n",
        "            if next_idx != -1:\n",
        "                min_idx = next_idx\n",
        "            elif calculate_next_right(component, min_idx, euclidean, i) != -1:\n",
        "                min_idx = calculate_next_right(component, min_idx, euclidean, i)\n",
        "            else:\n",
        "                min_idx = minimum_distance(component, euclidean, i)\n",
        "\n",
        "    return euclidean"
      ]
    },
    {
      "cell_type": "code",
      "execution_count": null,
      "metadata": {
        "id": "KyuY8zlef7qS"
      },
      "outputs": [],
      "source": [
        "# Function to visualise reading order\n",
        "# Input: Image, dataframe with bounding box information\n",
        "# Output: image generated with reading order\n",
        "def reading_order(image,euclidean):\n",
        "\n",
        "  image_rgb = cv2.cvtColor(image, cv2.COLOR_BGR2RGB)\n",
        "  image_with_boxes = image_rgb.copy()\n",
        "  for index, row in euclidean.iterrows():\n",
        "      left = int(parse_string(row['Left'],'[',','))\n",
        "      right = int(parse_string(row['Right'],'[',','))\n",
        "      top = int(parse_string(row['Top'],',',']'))\n",
        "      bottom = int(parse_string(row['Bottom'],',',']'))\n",
        "      Order = int(row['Order'])\n",
        "\n",
        "      width = right - left\n",
        "      height = bottom - top\n",
        "\n",
        "      top_left = (left, top)\n",
        "      bottom_right = (right, bottom)\n",
        "      # Uncomment to show boxes\n",
        "      # cv2.rectangle(image_with_boxes, top_left, bottom_right, (255, 0, 0), 2)\n",
        "\n",
        "      label_position = (left, top - 10)\n",
        "      cv2.putText(image_with_boxes, str(Order), label_position, cv2.FONT_HERSHEY_SIMPLEX, 1, (0, 0, 255), 2)\n",
        "\n",
        "  return image_with_boxes"
      ]
    },
    {
      "cell_type": "markdown",
      "source": [
        "### Ignore Header and Footer"
      ],
      "metadata": {
        "id": "9uAgKpvXmSCQ"
      }
    },
    {
      "cell_type": "code",
      "execution_count": null,
      "metadata": {
        "id": "XGzMZ1l7HeEa"
      },
      "outputs": [],
      "source": [
        "# Function to return size of the page\n",
        "def page_size(image_file):\n",
        "  image = cv2.imread(image_file)\n",
        "  height, width, _ = image.shape\n",
        "  return height, width"
      ]
    },
    {
      "cell_type": "code",
      "execution_count": null,
      "metadata": {
        "id": "cr0FMLMAHe9Y"
      },
      "outputs": [],
      "source": [
        "# Function to remove all the components present within the margin\n",
        "# Input: Dataframe with paragraph information, % of the height to be ignored, % of the width to be ignored, image\n",
        "def ignore_margins(component, height_p, width_p, image_file):\n",
        "  height, width = page_size(image_file)\n",
        "  vertical_margin = height*(height_p/100)\n",
        "  horizontal_margin = width*(width_p/100)\n",
        "  for i in range(len(component)):\n",
        "    if((component['Top'][i][1] > height - vertical_margin) and len(component['Component'][i][0])<7):\n",
        "      component = component.drop(i)\n",
        "    elif((component['Bottom'][i][1] < vertical_margin) and len(component['Component'][i][0])<7):\n",
        "      component = component.drop(i)\n",
        "    elif(component['Right'][i][0] < horizontal_margin):\n",
        "      component = component.drop(i)\n",
        "    elif(component['Left'][i][0] > width - horizontal_margin):\n",
        "      component = component.drop(i)\n",
        "    else:\n",
        "      continue\n",
        "  return component"
      ]
    },
    {
      "cell_type": "markdown",
      "source": [
        "## Reading Order Generator Function"
      ],
      "metadata": {
        "id": "NDVyglHdcIX0"
      }
    },
    {
      "cell_type": "code",
      "execution_count": null,
      "metadata": {
        "id": "gNHN9Xjct6Bn"
      },
      "outputs": [],
      "source": [
        "def Reading_Order_Generator(image_file, doctr_file):\n",
        "\n",
        "  df = pd.read_json(doctr_file)\n",
        "  df = df.T\n",
        "  euclidean = pd.DataFrame()\n",
        "  kde = pd.DataFrame()\n",
        "  calculate_center_points(df, kde)\n",
        "  horizontal_neighbors, vertical_neighbors = find_closest_neighbors(kde)\n",
        "  x = kde_estimate(horizontal_neighbors)\n",
        "  y = kde_estimate(vertical_neighbors)\n",
        "  calculate_center_points(df,euclidean)\n",
        "  calculate_rightbox(euclidean,x)\n",
        "  calculate_leftbox(euclidean,x)\n",
        "  calculate_topbox(euclidean,y)\n",
        "  calculate_bottombox(euclidean,y)\n",
        "  euclidean.to_csv(\"connections.csv\")\n",
        "  euclidean = pd.read_csv(\"connections.csv\")\n",
        "  G = create_graphs(euclidean)\n",
        "  get_paras(G)\n",
        "  component = pd.DataFrame()\n",
        "  euclidean = pd.read_csv('connections.csv')\n",
        "  d1 = pd.read_json('paragraph.json')\n",
        "  target_components = d1.values.tolist()\n",
        "  image = cv2.imread(image_file)\n",
        "  component = recognise_paragraphs(image, target_components, euclidean, image_file)\n",
        "  min_idx =  minimum_euclidean(component)\n",
        "  component = paragraph_order(component)\n",
        "  # Uncomment this code to visualise paragraph order\n",
        "  # visualise_paragraph_order(image, target_components, euclidean,component)\n",
        "  new = pd.DataFrame()\n",
        "  sort_order = component.sort_values('Order').index\n",
        "  component.to_csv('Component.csv')\n",
        "  new = component.loc[sort_order]\n",
        "  new = new.reset_index(drop=True)\n",
        "  new_euclidean = pd.DataFrame()\n",
        "  euclidean = word_order(new, euclidean)\n",
        "  sort_order = euclidean.sort_values('Order').index\n",
        "  new_euclidean = euclidean.loc[sort_order]\n",
        "  new_euclidean = new_euclidean.reset_index(drop=True)\n",
        "  image = cv2.imread(image_file)\n",
        "  image_with_boxes = reading_order(image,new_euclidean)\n",
        "  output_path = 'Output.png'\n",
        "  cv2.imwrite(output_path, cv2.cvtColor(image_with_boxes, cv2.COLOR_RGB2BGR))\n",
        "  euclidean.to_csv('Euclidean.csv')"
      ]
    },
    {
      "cell_type": "code",
      "source": [
        "image_file = 'Path_to_image' # Add the path to the image\n",
        "\n",
        "pred = doctr_predictions(image_file)\n",
        "\n",
        "data = {}\n",
        "\n",
        "json_data = json.dumps(pred)\n",
        "with open(\"doctr_file.json\", \"w\") as outfile:\n",
        "    outfile.write(json_data)\n",
        "\n",
        "doctr_file = '/content/doctr_file.json' # Doctr predicctions stored as doctr_file.json\n",
        "Reading_Order_Generator(image_file, doctr_file)"
      ],
      "metadata": {
        "id": "8NVa7qzOgWx5"
      },
      "execution_count": null,
      "outputs": []
    }
  ],
  "metadata": {
    "colab": {
      "provenance": []
    },
    "kernelspec": {
      "display_name": "Python 3",
      "name": "python3"
    },
    "language_info": {
      "name": "python"
    }
  },
  "nbformat": 4,
  "nbformat_minor": 0
}